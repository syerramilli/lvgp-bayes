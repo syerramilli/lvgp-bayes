{
 "cells": [
  {
   "cell_type": "code",
   "execution_count": 1,
   "metadata": {},
   "outputs": [],
   "source": [
    "import os\n",
    "import torch\n",
    "import random\n",
    "import numpy as np\n",
    "import pandas as pd\n",
    "import matplotlib.pyplot as plt\n",
    "\n",
    "from lvgp_bayes.models import LVGPR # main model class\n",
    "from lvgp_bayes.optim import fit_model_scipy, run_hmc_numpyro # estimation functions\n",
    "\n",
    "from lvgp_bayes.utils.variables import NumericalVariable,CategoricalVariable\n",
    "from lvgp_bayes.utils.input_space import InputSpace\n",
    "\n",
    "# metrics\n",
    "from lvgp_bayes.utils.metrics import rrmse,mean_interval_score,coverage\n",
    "from lvgp_bayes.utils.metrics import gaussian_mean_confidence_interval\n",
    "\n",
    "from copy import deepcopy\n",
    "\n",
    "\n",
    "# enable double precision floating points in jax for mcmc\n",
    "import jax\n",
    "jax.config.update(\"jax_enable_x64\", True)\n",
    "\n",
    "%matplotlib inline\n",
    "%load_ext autoreload\n",
    "%autoreload 2\n",
    "\n",
    "plt.rcParams.update(**{'figure.dpi':150})"
   ]
  },
  {
   "cell_type": "markdown",
   "metadata": {},
   "source": [
    "## Read in the data and setup utility objects"
   ]
  },
  {
   "cell_type": "code",
   "execution_count": 2,
   "metadata": {},
   "outputs": [
    {
     "data": {
      "text/html": [
       "<div>\n",
       "<style scoped>\n",
       "    .dataframe tbody tr th:only-of-type {\n",
       "        vertical-align: middle;\n",
       "    }\n",
       "\n",
       "    .dataframe tbody tr th {\n",
       "        vertical-align: top;\n",
       "    }\n",
       "\n",
       "    .dataframe thead th {\n",
       "        text-align: right;\n",
       "    }\n",
       "</style>\n",
       "<table border=\"1\" class=\"dataframe\">\n",
       "  <thead>\n",
       "    <tr style=\"text-align: right;\">\n",
       "      <th></th>\n",
       "      <th>M-site element</th>\n",
       "      <th>A-site element</th>\n",
       "      <th>X-site element</th>\n",
       "      <th>M-atom p-orbital radii</th>\n",
       "      <th>M-atom d-orbital radii</th>\n",
       "      <th>M-atom s-orbital radii</th>\n",
       "      <th>A-atom s-orbital radii</th>\n",
       "      <th>A-atom p-orbital radii</th>\n",
       "      <th>X-atom s-orbital radii</th>\n",
       "      <th>X-atom p-orbital radii</th>\n",
       "      <th>B (Bulk modulus)</th>\n",
       "      <th>G (Shear modulus)</th>\n",
       "      <th>E (Young's modulus)</th>\n",
       "    </tr>\n",
       "  </thead>\n",
       "  <tbody>\n",
       "    <tr>\n",
       "      <th>0</th>\n",
       "      <td>Sc</td>\n",
       "      <td>Cd</td>\n",
       "      <td>C</td>\n",
       "      <td>0.500</td>\n",
       "      <td>0.539</td>\n",
       "      <td>1.570</td>\n",
       "      <td>0.445</td>\n",
       "      <td>1.1840</td>\n",
       "      <td>0.620</td>\n",
       "      <td>0.5960</td>\n",
       "      <td>73</td>\n",
       "      <td>36</td>\n",
       "      <td>92</td>\n",
       "    </tr>\n",
       "    <tr>\n",
       "      <th>1</th>\n",
       "      <td>Sc</td>\n",
       "      <td>Tl</td>\n",
       "      <td>C</td>\n",
       "      <td>0.500</td>\n",
       "      <td>0.539</td>\n",
       "      <td>1.570</td>\n",
       "      <td>1.060</td>\n",
       "      <td>1.3190</td>\n",
       "      <td>0.620</td>\n",
       "      <td>0.5960</td>\n",
       "      <td>84</td>\n",
       "      <td>55</td>\n",
       "      <td>135</td>\n",
       "    </tr>\n",
       "    <tr>\n",
       "      <th>2</th>\n",
       "      <td>Sc</td>\n",
       "      <td>In</td>\n",
       "      <td>C</td>\n",
       "      <td>0.500</td>\n",
       "      <td>0.539</td>\n",
       "      <td>1.570</td>\n",
       "      <td>1.093</td>\n",
       "      <td>1.3820</td>\n",
       "      <td>0.620</td>\n",
       "      <td>0.5960</td>\n",
       "      <td>86</td>\n",
       "      <td>54</td>\n",
       "      <td>135</td>\n",
       "    </tr>\n",
       "    <tr>\n",
       "      <th>3</th>\n",
       "      <td>Sc</td>\n",
       "      <td>Pb</td>\n",
       "      <td>C</td>\n",
       "      <td>0.500</td>\n",
       "      <td>0.539</td>\n",
       "      <td>1.570</td>\n",
       "      <td>1.010</td>\n",
       "      <td>1.2150</td>\n",
       "      <td>0.620</td>\n",
       "      <td>0.5960</td>\n",
       "      <td>87</td>\n",
       "      <td>58</td>\n",
       "      <td>142</td>\n",
       "    </tr>\n",
       "    <tr>\n",
       "      <th>4</th>\n",
       "      <td>Sc</td>\n",
       "      <td>Al</td>\n",
       "      <td>C</td>\n",
       "      <td>0.500</td>\n",
       "      <td>0.539</td>\n",
       "      <td>1.570</td>\n",
       "      <td>1.044</td>\n",
       "      <td>1.3120</td>\n",
       "      <td>0.620</td>\n",
       "      <td>0.5960</td>\n",
       "      <td>88</td>\n",
       "      <td>57</td>\n",
       "      <td>140</td>\n",
       "    </tr>\n",
       "    <tr>\n",
       "      <th>...</th>\n",
       "      <td>...</td>\n",
       "      <td>...</td>\n",
       "      <td>...</td>\n",
       "      <td>...</td>\n",
       "      <td>...</td>\n",
       "      <td>...</td>\n",
       "      <td>...</td>\n",
       "      <td>...</td>\n",
       "      <td>...</td>\n",
       "      <td>...</td>\n",
       "      <td>...</td>\n",
       "      <td>...</td>\n",
       "      <td>...</td>\n",
       "    </tr>\n",
       "    <tr>\n",
       "      <th>218</th>\n",
       "      <td>W</td>\n",
       "      <td>P</td>\n",
       "      <td>C</td>\n",
       "      <td>0.582</td>\n",
       "      <td>0.746</td>\n",
       "      <td>1.360</td>\n",
       "      <td>0.803</td>\n",
       "      <td>0.9175</td>\n",
       "      <td>0.620</td>\n",
       "      <td>0.5960</td>\n",
       "      <td>242</td>\n",
       "      <td>45</td>\n",
       "      <td>126</td>\n",
       "    </tr>\n",
       "    <tr>\n",
       "      <th>219</th>\n",
       "      <td>Ta</td>\n",
       "      <td>P</td>\n",
       "      <td>C</td>\n",
       "      <td>0.599</td>\n",
       "      <td>0.784</td>\n",
       "      <td>1.413</td>\n",
       "      <td>0.803</td>\n",
       "      <td>0.9175</td>\n",
       "      <td>0.620</td>\n",
       "      <td>0.5960</td>\n",
       "      <td>243</td>\n",
       "      <td>151</td>\n",
       "      <td>375</td>\n",
       "    </tr>\n",
       "    <tr>\n",
       "      <th>220</th>\n",
       "      <td>Ta</td>\n",
       "      <td>S</td>\n",
       "      <td>N</td>\n",
       "      <td>0.599</td>\n",
       "      <td>0.784</td>\n",
       "      <td>1.413</td>\n",
       "      <td>0.723</td>\n",
       "      <td>0.8080</td>\n",
       "      <td>0.521</td>\n",
       "      <td>0.4875</td>\n",
       "      <td>246</td>\n",
       "      <td>109</td>\n",
       "      <td>285</td>\n",
       "    </tr>\n",
       "    <tr>\n",
       "      <th>221</th>\n",
       "      <td>W</td>\n",
       "      <td>Si</td>\n",
       "      <td>C</td>\n",
       "      <td>0.582</td>\n",
       "      <td>0.746</td>\n",
       "      <td>1.360</td>\n",
       "      <td>0.904</td>\n",
       "      <td>1.0680</td>\n",
       "      <td>0.620</td>\n",
       "      <td>0.5960</td>\n",
       "      <td>251</td>\n",
       "      <td>95</td>\n",
       "      <td>253</td>\n",
       "    </tr>\n",
       "    <tr>\n",
       "      <th>222</th>\n",
       "      <td>Ta</td>\n",
       "      <td>P</td>\n",
       "      <td>N</td>\n",
       "      <td>0.599</td>\n",
       "      <td>0.784</td>\n",
       "      <td>1.413</td>\n",
       "      <td>0.803</td>\n",
       "      <td>0.9175</td>\n",
       "      <td>0.521</td>\n",
       "      <td>0.4875</td>\n",
       "      <td>255</td>\n",
       "      <td>122</td>\n",
       "      <td>315</td>\n",
       "    </tr>\n",
       "  </tbody>\n",
       "</table>\n",
       "<p>223 rows × 13 columns</p>\n",
       "</div>"
      ],
      "text/plain": [
       "    M-site element A-site element X-site element  M-atom p-orbital radii  \\\n",
       "0               Sc             Cd              C                   0.500   \n",
       "1               Sc             Tl              C                   0.500   \n",
       "2               Sc             In              C                   0.500   \n",
       "3               Sc             Pb              C                   0.500   \n",
       "4               Sc             Al              C                   0.500   \n",
       "..             ...            ...            ...                     ...   \n",
       "218              W              P              C                   0.582   \n",
       "219             Ta              P              C                   0.599   \n",
       "220             Ta              S              N                   0.599   \n",
       "221              W             Si              C                   0.582   \n",
       "222             Ta              P              N                   0.599   \n",
       "\n",
       "     M-atom d-orbital radii  M-atom s-orbital radii  A-atom s-orbital radii  \\\n",
       "0                     0.539                   1.570                   0.445   \n",
       "1                     0.539                   1.570                   1.060   \n",
       "2                     0.539                   1.570                   1.093   \n",
       "3                     0.539                   1.570                   1.010   \n",
       "4                     0.539                   1.570                   1.044   \n",
       "..                      ...                     ...                     ...   \n",
       "218                   0.746                   1.360                   0.803   \n",
       "219                   0.784                   1.413                   0.803   \n",
       "220                   0.784                   1.413                   0.723   \n",
       "221                   0.746                   1.360                   0.904   \n",
       "222                   0.784                   1.413                   0.803   \n",
       "\n",
       "     A-atom p-orbital radii  X-atom s-orbital radii  X-atom p-orbital radii  \\\n",
       "0                    1.1840                   0.620                  0.5960   \n",
       "1                    1.3190                   0.620                  0.5960   \n",
       "2                    1.3820                   0.620                  0.5960   \n",
       "3                    1.2150                   0.620                  0.5960   \n",
       "4                    1.3120                   0.620                  0.5960   \n",
       "..                      ...                     ...                     ...   \n",
       "218                  0.9175                   0.620                  0.5960   \n",
       "219                  0.9175                   0.620                  0.5960   \n",
       "220                  0.8080                   0.521                  0.4875   \n",
       "221                  1.0680                   0.620                  0.5960   \n",
       "222                  0.9175                   0.521                  0.4875   \n",
       "\n",
       "     B (Bulk modulus)  G (Shear modulus)  E (Young's modulus)  \n",
       "0                  73                 36                   92  \n",
       "1                  84                 55                  135  \n",
       "2                  86                 54                  135  \n",
       "3                  87                 58                  142  \n",
       "4                  88                 57                  140  \n",
       "..                ...                ...                  ...  \n",
       "218               242                 45                  126  \n",
       "219               243                151                  375  \n",
       "220               246                109                  285  \n",
       "221               251                 95                  253  \n",
       "222               255                122                  315  \n",
       "\n",
       "[223 rows x 13 columns]"
      ]
     },
     "execution_count": 2,
     "metadata": {},
     "output_type": "execute_result"
    }
   ],
   "source": [
    "# need xlrd\n",
    "dat = pd.read_excel('../tests/m2ax/M2AX_data.xls')\n",
    "dat"
   ]
  },
  {
   "cell_type": "markdown",
   "metadata": {},
   "source": [
    "We now create the `InputSpace` utility object to \n",
    "\n",
    "1. transform the data into the required format for modeling \n",
    "    - a numerical input must be scaled to [0,1]  (with/without log transform).\n",
    "    - a categorical input variable with L levels must be encoded as integers 0,...,L-1. \n",
    "2. generate indices\n",
    "    - the attribute `.quant_index` is a list of (column) indices for numerical or binary categorical inputs\n",
    "    - the attribute `.qual_index` is a list of (column) indices for non-binary categorical inputs"
   ]
  },
  {
   "cell_type": "code",
   "execution_count": 3,
   "metadata": {},
   "outputs": [
    {
     "data": {
      "text/plain": [
       "Input space with variables:\n",
       "\n",
       "M-site element, Type: Categorical, Levels: {Sc, Zr, Nb, Cr, Ti, Hf, V, W, Ta, Mo}\n",
       "A-site element, Type: Categorical, Levels: {Cd, Tl, In, Pb, Al, Ga, Sn, Ge, Si, As, P, S}\n",
       "X-site element, Type: Categorical, Levels: {C, N}"
      ]
     },
     "execution_count": 3,
     "metadata": {},
     "output_type": "execute_result"
    }
   ],
   "source": [
    "config = InputSpace()\n",
    "col_names = ['%s-site element'%l for l in ['M','A','X']]\n",
    "elems = [\n",
    "    CategoricalVariable(name=name,levels=dat[name].unique()) \\\n",
    "    for name in col_names\n",
    "]\n",
    "config.add_inputs(elems)\n",
    "\n",
    "config"
   ]
  },
  {
   "cell_type": "code",
   "execution_count": 4,
   "metadata": {},
   "outputs": [
    {
     "data": {
      "text/plain": [
       "[0, 1]"
      ]
     },
     "execution_count": 4,
     "metadata": {},
     "output_type": "execute_result"
    }
   ],
   "source": [
    "# M and A will be treated as qualitative variables\n",
    "config.qual_index"
   ]
  },
  {
   "cell_type": "code",
   "execution_count": 5,
   "metadata": {},
   "outputs": [
    {
     "data": {
      "text/plain": [
       "[2]"
      ]
     },
     "execution_count": 5,
     "metadata": {},
     "output_type": "execute_result"
    }
   ],
   "source": [
    "# Since X has only two levels, it will be treated as a binary numerical variable\n",
    "config.quant_index"
   ]
  },
  {
   "cell_type": "code",
   "execution_count": 6,
   "metadata": {},
   "outputs": [
    {
     "name": "stdout",
     "output_type": "stream",
     "text": [
      "tensor([[ 0.,  0.,  0.],\n",
      "        [ 0.,  1.,  0.],\n",
      "        [ 0.,  2.,  0.],\n",
      "        [ 0.,  3.,  0.],\n",
      "        [ 0.,  4.,  0.],\n",
      "        [ 0.,  5.,  0.],\n",
      "        [ 0.,  0.,  1.],\n",
      "        [ 0.,  6.,  0.],\n",
      "        [ 0.,  3.,  1.],\n",
      "        [ 0.,  2.,  1.],\n",
      "        [ 0.,  1.,  1.],\n",
      "        [ 0.,  7.,  0.],\n",
      "        [ 1.,  0.,  0.],\n",
      "        [ 0.,  8.,  0.],\n",
      "        [ 0.,  4.,  1.],\n",
      "        [ 0.,  5.,  1.],\n",
      "        [ 0.,  6.,  1.],\n",
      "        [ 2.,  1.,  1.],\n",
      "        [ 0.,  9.,  0.],\n",
      "        [ 3.,  1.,  0.],\n",
      "        [ 4.,  0.,  0.],\n",
      "        [ 1.,  3.,  0.],\n",
      "        [ 1.,  1.,  0.],\n",
      "        [ 5.,  0.,  0.],\n",
      "        [ 1.,  2.,  0.],\n",
      "        [ 4.,  3.,  0.],\n",
      "        [ 6.,  1.,  0.],\n",
      "        [ 6.,  0.,  0.],\n",
      "        [ 0., 10.,  0.],\n",
      "        [ 1.,  0.,  1.],\n",
      "        [ 4.,  3.,  1.],\n",
      "        [ 0.,  7.,  1.],\n",
      "        [ 6.,  3.,  1.],\n",
      "        [ 3.,  3.,  1.],\n",
      "        [ 6.,  3.,  0.],\n",
      "        [ 1.,  4.,  0.],\n",
      "        [ 4.,  1.,  0.],\n",
      "        [ 7.,  3.,  1.],\n",
      "        [ 5.,  3.,  0.],\n",
      "        [ 0., 11.,  0.],\n",
      "        [ 3.,  2.,  0.],\n",
      "        [ 1.,  3.,  1.],\n",
      "        [ 1.,  5.,  0.],\n",
      "        [ 4.,  2.,  0.],\n",
      "        [ 2.,  3.,  1.],\n",
      "        [ 0.,  8.,  1.],\n",
      "        [ 1.,  6.,  0.],\n",
      "        [ 5.,  1.,  0.],\n",
      "        [ 4.,  1.,  1.],\n",
      "        [ 1.,  1.,  1.],\n",
      "        [ 4.,  0.,  1.],\n",
      "        [ 8.,  3.,  1.],\n",
      "        [ 5.,  2.,  0.],\n",
      "        [ 0.,  9.,  1.],\n",
      "        [ 3.,  3.,  0.],\n",
      "        [ 1.,  2.,  1.],\n",
      "        [ 5.,  3.,  1.],\n",
      "        [ 8.,  3.,  0.],\n",
      "        [ 4.,  6.,  0.],\n",
      "        [ 5.,  0.,  1.],\n",
      "        [ 4.,  6.,  1.],\n",
      "        [ 9.,  1.,  1.],\n",
      "        [ 8.,  1.,  1.],\n",
      "        [ 0., 10.,  1.],\n",
      "        [ 4.,  4.,  0.],\n",
      "        [ 5.,  4.,  0.],\n",
      "        [ 6.,  6.,  0.],\n",
      "        [ 4.,  2.,  1.],\n",
      "        [ 4.,  5.,  0.],\n",
      "        [ 5.,  6.,  0.],\n",
      "        [ 3.,  0.,  1.],\n",
      "        [ 1.,  6.,  1.],\n",
      "        [ 6.,  1.,  1.],\n",
      "        [ 5.,  5.,  0.],\n",
      "        [ 1.,  4.,  1.],\n",
      "        [ 9.,  3.,  1.],\n",
      "        [ 0., 11.,  1.],\n",
      "        [ 2.,  3.,  0.],\n",
      "        [ 5.,  1.,  1.],\n",
      "        [ 6.,  6.,  1.],\n",
      "        [ 1.,  5.,  1.],\n",
      "        [ 7.,  1.,  1.],\n",
      "        [ 1.,  7.,  0.],\n",
      "        [ 3.,  1.,  1.],\n",
      "        [ 5.,  2.,  1.],\n",
      "        [ 2.,  0.,  0.],\n",
      "        [ 2.,  1.,  0.],\n",
      "        [ 4.,  7.,  0.],\n",
      "        [ 1.,  8.,  0.],\n",
      "        [ 2.,  0.,  1.],\n",
      "        [ 5.,  6.,  1.],\n",
      "        [ 6.,  2.,  1.],\n",
      "        [ 5.,  7.,  0.],\n",
      "        [ 4.,  4.,  1.],\n",
      "        [ 3.,  6.,  0.],\n",
      "        [ 1.,  7.,  1.],\n",
      "        [ 3.,  2.,  1.],\n",
      "        [ 3.,  0.,  0.],\n",
      "        [ 6.,  2.,  0.],\n",
      "        [ 9.,  3.,  0.],\n",
      "        [ 9.,  1.,  0.],\n",
      "        [ 5.,  4.,  1.],\n",
      "        [ 6.,  0.,  1.],\n",
      "        [ 2.,  2.,  1.],\n",
      "        [ 2.,  2.,  0.],\n",
      "        [ 4.,  5.,  1.],\n",
      "        [ 5.,  5.,  1.],\n",
      "        [ 1.,  9.,  0.],\n",
      "        [ 9.,  0.,  0.],\n",
      "        [ 2.,  6.,  0.],\n",
      "        [ 3.,  6.,  1.],\n",
      "        [ 2.,  6.,  1.],\n",
      "        [ 1., 11.,  0.],\n",
      "        [ 8.,  1.,  0.],\n",
      "        [ 1.,  8.,  1.],\n",
      "        [ 3.,  5.,  1.],\n",
      "        [ 5.,  8.,  0.],\n",
      "        [ 4.,  7.,  1.],\n",
      "        [ 8.,  0.,  0.],\n",
      "        [ 8.,  0.,  1.],\n",
      "        [ 4.,  9.,  0.],\n",
      "        [ 9.,  2.,  0.],\n",
      "        [ 4.,  8.,  0.],\n",
      "        [ 5.,  7.,  1.],\n",
      "        [ 7.,  1.,  0.],\n",
      "        [ 1.,  9.,  1.],\n",
      "        [ 1., 11.,  1.],\n",
      "        [ 8.,  2.,  1.],\n",
      "        [ 2.,  4.,  0.],\n",
      "        [ 1., 10.,  0.],\n",
      "        [ 6.,  5.,  1.],\n",
      "        [ 6.,  4.,  0.],\n",
      "        [ 5.,  9.,  0.],\n",
      "        [ 6.,  5.,  0.],\n",
      "        [ 8.,  2.,  0.],\n",
      "        [ 8.,  6.,  0.],\n",
      "        [ 8.,  6.,  1.],\n",
      "        [ 2.,  5.,  0.],\n",
      "        [ 4., 11.,  0.],\n",
      "        [ 7.,  0.,  0.],\n",
      "        [ 5., 11.,  0.],\n",
      "        [ 6.,  4.,  1.],\n",
      "        [ 4.,  9.,  1.],\n",
      "        [ 4., 11.,  1.],\n",
      "        [ 6.,  7.,  0.],\n",
      "        [ 5.,  8.,  1.],\n",
      "        [ 5.,  9.,  1.],\n",
      "        [ 1., 10.,  1.],\n",
      "        [ 4.,  8.,  1.],\n",
      "        [ 9.,  6.,  0.],\n",
      "        [ 3.,  4.,  1.],\n",
      "        [ 3.,  5.,  0.],\n",
      "        [ 9.,  0.,  1.],\n",
      "        [ 3.,  4.,  0.],\n",
      "        [ 5., 11.,  1.],\n",
      "        [ 7.,  2.,  0.],\n",
      "        [ 4., 10.,  0.],\n",
      "        [ 5., 10.,  0.],\n",
      "        [ 9.,  5.,  0.],\n",
      "        [ 3.,  7.,  1.],\n",
      "        [ 2.,  7.,  0.],\n",
      "        [ 3., 11.,  0.],\n",
      "        [ 8.,  4.,  0.],\n",
      "        [ 8.,  5.,  0.],\n",
      "        [ 2.,  4.,  1.],\n",
      "        [ 6.,  7.,  1.],\n",
      "        [ 3.,  9.,  0.],\n",
      "        [ 9.,  4.,  0.],\n",
      "        [ 6.,  9.,  0.],\n",
      "        [ 2., 11.,  0.],\n",
      "        [ 2.,  5.,  1.],\n",
      "        [ 5., 10.,  1.],\n",
      "        [ 6., 11.,  0.],\n",
      "        [ 3.,  7.,  0.],\n",
      "        [ 7.,  6.,  0.],\n",
      "        [ 2.,  7.,  1.],\n",
      "        [ 4., 10.,  1.],\n",
      "        [ 6.,  9.,  1.],\n",
      "        [ 2.,  9.,  0.],\n",
      "        [ 9., 11.,  1.],\n",
      "        [ 2.,  9.,  1.],\n",
      "        [ 8.,  7.,  0.],\n",
      "        [ 8., 11.,  0.],\n",
      "        [ 3.,  9.,  1.],\n",
      "        [ 9.,  9.,  1.],\n",
      "        [ 9.,  9.,  0.],\n",
      "        [ 2.,  8.,  0.],\n",
      "        [ 6.,  8.,  1.],\n",
      "        [ 3., 10.,  1.],\n",
      "        [ 7.,  5.,  0.],\n",
      "        [ 6.,  8.,  0.],\n",
      "        [ 9.,  7.,  0.],\n",
      "        [ 7.,  9.,  1.],\n",
      "        [ 2.,  8.,  1.],\n",
      "        [ 7.,  4.,  0.],\n",
      "        [ 3.,  8.,  0.],\n",
      "        [ 8.,  9.,  1.],\n",
      "        [ 8.,  4.,  1.],\n",
      "        [ 8.,  7.,  1.],\n",
      "        [ 8.,  9.,  0.],\n",
      "        [ 2., 10.,  1.],\n",
      "        [ 3.,  8.,  1.],\n",
      "        [ 8.,  5.,  1.],\n",
      "        [ 2., 11.,  1.],\n",
      "        [ 3., 10.,  0.],\n",
      "        [ 9.,  5.,  1.],\n",
      "        [ 9., 10.,  0.],\n",
      "        [ 9.,  8.,  0.],\n",
      "        [ 2., 10.,  0.],\n",
      "        [ 8.,  8.,  0.],\n",
      "        [ 7.,  0.,  1.],\n",
      "        [ 9., 10.,  1.],\n",
      "        [ 7.,  9.,  0.],\n",
      "        [ 6., 10.,  0.],\n",
      "        [ 6., 10.,  1.],\n",
      "        [ 7., 10.,  1.],\n",
      "        [ 8.,  8.,  1.],\n",
      "        [ 7.,  7.,  0.],\n",
      "        [ 7., 10.,  0.],\n",
      "        [ 8., 10.,  0.],\n",
      "        [ 8., 11.,  1.],\n",
      "        [ 7.,  8.,  0.],\n",
      "        [ 8., 10.,  1.]], dtype=torch.float64)\n"
     ]
    }
   ],
   "source": [
    "# convert data into suitable format for modeling - torch tensor\n",
    "# categorical variables - encoded as integers 0,1,...,L-1\n",
    "all_x = torch.from_numpy(np.array([\n",
    "    config.get_array_from_dict(row) for _,row in dat[config.get_variable_names()].iterrows()\n",
    "]))\n",
    "\n",
    "# response - Shear modulus\n",
    "target = \"G (Shear modulus)\"\n",
    "all_responses = torch.tensor(dat[target]).double()\n",
    "\n",
    "print(all_x)"
   ]
  },
  {
   "cell_type": "code",
   "execution_count": 7,
   "metadata": {},
   "outputs": [],
   "source": [
    "def set_seed(seed:int):\n",
    "    random.seed(seed)\n",
    "    torch.manual_seed(seed)\n",
    "    np.random.seed(seed)"
   ]
  },
  {
   "cell_type": "markdown",
   "metadata": {},
   "source": [
    "## Generate training and test splits"
   ]
  },
  {
   "cell_type": "code",
   "execution_count": 8,
   "metadata": {},
   "outputs": [],
   "source": [
    "seed = 175\n",
    "num_samples = 100 # 100 training, 123 test\n",
    "rng = np.random.RandomState(seed)\n",
    "idxs_train = rng.choice(all_x.shape[0],num_samples,replace=False)\n",
    "train_x = all_x[idxs_train,:]\n",
    "train_y = all_responses[idxs_train]\n",
    "\n",
    "idxs_test = np.array([idx for idx in np.arange(all_x.shape[0]) if idx not in idxs_train])\n",
    "test_x = all_x[idxs_test,:]\n",
    "test_y = all_responses[idxs_test]"
   ]
  },
  {
   "cell_type": "markdown",
   "metadata": {},
   "source": [
    "## Point estimation - Maximum a-posteriori (MAP)\n",
    "\n",
    "We begin by defining the `LVGPR` instance. The required input arguments are the training data (`train_x` and `train_y`), the indices for the qualitative (`qual_index`) and quantitative (`quant_index`) variables, and the number of levels for each qualitative variable (`num_levels_per_var`), whose entries are specified in the same as order as that in the index list. The `InputSpace` object automatically generates the latter three entries.\n",
    "\n",
    "\n",
    "To estimate a model through MAP method, use the `fit_model_scipy` method. All hyperparameters are jointly optimized using multi-start numerical optimization with **L-BFGS** as the optimization algorithm."
   ]
  },
  {
   "cell_type": "code",
   "execution_count": 9,
   "metadata": {},
   "outputs": [
    {
     "name": "stdout",
     "output_type": "stream",
     "text": [
      "CPU times: user 26.2 s, sys: 590 ms, total: 26.8 s\n",
      "Wall time: 26.6 s\n"
     ]
    }
   ],
   "source": [
    "%%time \n",
    "set_seed(seed)\n",
    "model = LVGPR(\n",
    "    train_x=train_x,\n",
    "    train_y=train_y,\n",
    "    quant_correlation_class='RBFKernel',\n",
    "    qual_index=config.qual_index,\n",
    "    quant_index=config.quant_index,\n",
    "    num_levels_per_var=list(config.num_levels.values()),\n",
    ").double()\n",
    "\n",
    "\n",
    "_ = fit_model_scipy(\n",
    "    model, num_restarts=15,options={'ftol':1e-6,'maxfun':1000}\n",
    ")"
   ]
  },
  {
   "cell_type": "code",
   "execution_count": 10,
   "metadata": {},
   "outputs": [
    {
     "data": {
      "text/plain": [
       "{'rrmse': 0.7376690573631074,\n",
       " 'mis': 278.5414957488564,\n",
       " 'coverage': 0.3333333432674408}"
      ]
     },
     "execution_count": 10,
     "metadata": {},
     "output_type": "execute_result"
    }
   ],
   "source": [
    "# generate predictions\n",
    "with torch.no_grad():\n",
    "    # set return_std = False if standard deviation is not needed \n",
    "    test_pred,test_pred_std = model.predict(test_x,return_std=True)\n",
    "    \n",
    "# print RRMSE\n",
    "lq,uq = test_pred-1.96*test_pred_std,test_pred+1.96*test_pred_std\n",
    "stats_map = {\n",
    "    'rrmse':rrmse(test_y,test_pred).item(),\n",
    "    'mis':mean_interval_score(test_y,lq,uq,0.05).item(),\n",
    "    'coverage':coverage(test_y,lq,uq).item(),\n",
    "}\n",
    "stats_map"
   ]
  },
  {
   "cell_type": "code",
   "execution_count": 11,
   "metadata": {},
   "outputs": [
    {
     "data": {
      "text/plain": [
       "[array([[ 0.        ,  0.        ],\n",
       "        [ 1.63664078,  0.        ],\n",
       "        [ 2.15056897, -0.73046038],\n",
       "        [ 0.33814239, -1.21264979],\n",
       "        [ 1.05894061, -0.26669733],\n",
       "        [ 1.38742418, -0.16545754],\n",
       "        [ 0.98575951, -1.39523248],\n",
       "        [ 0.77302044, -2.01457111],\n",
       "        [ 1.85697586, -0.97208636],\n",
       "        [ 0.86524592,  0.1325861 ]]),\n",
       " array([[ 0.        ,  0.        ],\n",
       "        [-0.70201589,  0.        ],\n",
       "        [-0.56883643,  0.45631759],\n",
       "        [-1.13458211, -0.03334601],\n",
       "        [-0.28933773,  1.00300648],\n",
       "        [-0.17998429,  1.09732637],\n",
       "        [-1.08595977,  0.20904649],\n",
       "        [-0.29011203,  0.61052602],\n",
       "        [-0.42545129,  0.82317598],\n",
       "        [-1.70124142,  1.34660288],\n",
       "        [-1.38884147,  1.19431678],\n",
       "        [ 0.05133772,  1.80813465]])]"
      ]
     },
     "execution_count": 11,
     "metadata": {},
     "output_type": "execute_result"
    }
   ],
   "source": [
    "## latent variables\n",
    "with torch.no_grad():\n",
    "    lvs_list = [layer.latents.detach().numpy() for layer in model.lv_mapping_layers]\n",
    "    \n",
    "lvs_list"
   ]
  },
  {
   "cell_type": "code",
   "execution_count": 12,
   "metadata": {},
   "outputs": [
    {
     "data": {
      "image/png": "[encoded data removed]",
      "text/plain": [
       "<Figure size 1200x600 with 2 Axes>"
      ]
     },
     "metadata": {},
     "output_type": "display_data"
    }
   ],
   "source": [
    "# plot latent values\n",
    "fig,axs = plt.subplots(1,2,figsize=(8,4))\n",
    "\n",
    "for i in range(2):\n",
    "    latents = lvs_list[i]\n",
    "    _ = axs[i].plot(latents[:,0],latents[:,1],'k.')\n",
    "    \n",
    "    cat = config.get_variable_by_idx(config.qual_index[i])\n",
    "    # annotate the labels\n",
    "    for j,level in enumerate(cat.levels):\n",
    "        _ = axs[i].annotate(\n",
    "            str(level),latents[j,:],\n",
    "            textcoords = 'offset points',\n",
    "            xytext = (-1,3),\n",
    "            size='8'\n",
    "        )\n",
    "        \n",
    "    \n",
    "    _ = axs[i].set_xlabel(r'$z_1$')\n",
    "    _ = axs[i].set_ylabel(r'$z_2$')\n",
    "    _ = axs[i].set_title(cat.name)\n",
    "    _ = axs[i].grid(alpha=0.5)\n",
    "    _ = axs[i].set_aspect('equal', 'datalim')\n",
    "\n",
    "fig.tight_layout()"
   ]
  },
  {
   "cell_type": "markdown",
   "metadata": {},
   "source": [
    "## Fully Bayesian inference\n",
    "\n",
    "For fully Bayesian inference, use the function `run_hmc_numpyro`. MCMC estimation usuaully takes longer than MAP estimation, but the resulting models tend to have better prediction accuracy and better quality of uncertainty quantification.\n",
    "\n",
    "**Note**: \n",
    "1. MCMC is run with JAX as the backend and not PyTorch\n",
    "2. The MCMC algorithm run can be unstable with single precision floating points, which is the default on JAX. We need to enable double precision floating points using `jax.config.update(\"jax_enable_x64\", True)` (done earlier in the notebook). "
   ]
  },
  {
   "cell_type": "code",
   "execution_count": 13,
   "metadata": {},
   "outputs": [
    {
     "name": "stderr",
     "output_type": "stream",
     "text": [
      "sample: 100%|█| 3000/3000 [03:37<00:00, 13.78it/s, 63 steps of size 3.82e-02. ac\n"
     ]
    }
   ],
   "source": [
    "_ = model.train()\n",
    "mcmc_runs = run_hmc_numpyro(\n",
    "    model,\n",
    "    num_samples=1500,warmup_steps=1500,\n",
    "    max_tree_depth=7,\n",
    "    disable_progbar=False,\n",
    "    num_chains=1,\n",
    "    num_model_samples=100, # final number of samples to store, obtained via thinning\n",
    "    seed=seed\n",
    ")"
   ]
  },
  {
   "cell_type": "code",
   "execution_count": 14,
   "metadata": {
    "scrolled": true
   },
   "outputs": [
    {
     "name": "stdout",
     "output_type": "stream",
     "text": [
      "\n",
      "                                                             mean       std    median      5.0%     95.0%     n_eff     r_hat\n",
      "covar_module.base_kernel.kernels.1.raw_lengthscale[0,0]      0.42      0.44      0.36     -0.27      1.05    204.12      1.00\n",
      "                           covar_module.raw_outputscale      0.53      0.48      0.49     -0.20      1.32    320.10      1.00\n",
      "                    likelihood.noise_covar.raw_noise[0]     -3.23      1.17     -3.23     -4.85     -1.21    104.13      1.00\n",
      "                   lv_mapping_layers.0.raw_latents[0,0]      0.13      1.46      0.27     -2.11      2.40    217.25      1.01\n",
      "                   lv_mapping_layers.0.raw_latents[0,1]      0.12      1.42      0.20     -2.07      2.28    290.37      1.00\n",
      "                   lv_mapping_layers.0.raw_latents[1,0]      0.05      0.92      0.07     -1.50      1.51    254.67      1.00\n",
      "                   lv_mapping_layers.0.raw_latents[1,1]      0.05      0.91      0.06     -1.37      1.57    269.07      1.00\n",
      "                   lv_mapping_layers.0.raw_latents[2,0]     -0.06      0.99     -0.06     -1.72      1.52    247.90      1.00\n",
      "                   lv_mapping_layers.0.raw_latents[2,1]     -0.13      1.02     -0.17     -1.72      1.59    258.29      1.01\n",
      "                   lv_mapping_layers.0.raw_latents[3,0]      0.12      1.02      0.16     -1.61      1.68    435.97      1.00\n",
      "                   lv_mapping_layers.0.raw_latents[3,1]      0.02      1.00      0.02     -1.69      1.55    411.78      1.00\n",
      "                   lv_mapping_layers.0.raw_latents[4,0]     -0.03      0.93     -0.01     -1.49      1.57    211.59      1.00\n",
      "                   lv_mapping_layers.0.raw_latents[4,1]      0.05      0.93      0.06     -1.45      1.62    207.44      1.00\n",
      "                   lv_mapping_layers.0.raw_latents[5,0]     -0.02      0.80     -0.02     -1.32      1.24    201.05      1.00\n",
      "                   lv_mapping_layers.0.raw_latents[5,1]      0.03      0.78      0.03     -1.16      1.36    330.16      1.00\n",
      "                   lv_mapping_layers.0.raw_latents[6,0]     -0.11      0.87     -0.13     -1.55      1.26    276.75      1.01\n",
      "                   lv_mapping_layers.0.raw_latents[6,1]     -0.05      0.88     -0.06     -1.41      1.42    355.11      1.00\n",
      "                   lv_mapping_layers.0.raw_latents[7,0]     -0.12      1.44     -0.25     -2.27      2.19    245.68      1.00\n",
      "                   lv_mapping_layers.0.raw_latents[7,1]     -0.15      1.46     -0.29     -2.28      2.23    216.76      1.00\n",
      "                   lv_mapping_layers.0.raw_latents[8,0]     -0.06      0.97     -0.10     -1.51      1.59    208.09      1.00\n",
      "                   lv_mapping_layers.0.raw_latents[8,1]     -0.10      0.97     -0.13     -1.58      1.54    253.75      1.00\n",
      "                   lv_mapping_layers.0.raw_latents[9,0]      0.03      1.22      0.09     -1.91      1.85    167.73      1.00\n",
      "                   lv_mapping_layers.0.raw_latents[9,1]      0.08      1.18      0.11     -1.88      1.80    349.59      1.00\n",
      "                   lv_mapping_layers.0.raw_precision[0]     -1.37      0.81     -1.47     -2.58      0.00     77.98      1.00\n",
      "                   lv_mapping_layers.1.raw_latents[0,0]     -0.12      1.51     -0.24     -2.33      2.29    159.08      1.00\n",
      "                   lv_mapping_layers.1.raw_latents[0,1]     -0.03      1.51     -0.05     -2.62      2.10    176.52      1.00\n",
      "                   lv_mapping_layers.1.raw_latents[1,0]      0.14      0.94      0.21     -1.39      1.52    109.52      1.00\n",
      "                   lv_mapping_layers.1.raw_latents[1,1]      0.01      0.92      0.02     -1.27      1.63    165.48      1.00\n",
      "                   lv_mapping_layers.1.raw_latents[2,0]      0.06      0.74      0.08     -1.17      1.22    297.22      1.00\n",
      "                   lv_mapping_layers.1.raw_latents[2,1]      0.02      0.76      0.04     -1.28      1.19    303.80      1.00\n",
      "                   lv_mapping_layers.1.raw_latents[3,0]      0.22      1.24      0.30     -1.83      1.99    113.73      1.00\n",
      "                   lv_mapping_layers.1.raw_latents[3,1]      0.00      1.23     -0.00     -1.77      2.01    135.94      1.00\n",
      "                   lv_mapping_layers.1.raw_latents[4,0]     -0.05      0.86     -0.08     -1.48      1.28    203.28      1.00\n",
      "                   lv_mapping_layers.1.raw_latents[4,1]     -0.00      0.89     -0.03     -1.34      1.46    211.02      1.00\n",
      "                   lv_mapping_layers.1.raw_latents[5,0]     -0.06      0.78     -0.02     -1.30      1.18    194.88      1.00\n",
      "                   lv_mapping_layers.1.raw_latents[5,1]     -0.02      0.79     -0.04     -1.20      1.33    238.29      1.00\n",
      "                   lv_mapping_layers.1.raw_latents[6,0]      0.11      1.03      0.15     -1.54      1.67    137.30      1.00\n",
      "                   lv_mapping_layers.1.raw_latents[6,1]      0.05      1.02      0.06     -1.51      1.66    149.21      1.01\n",
      "                   lv_mapping_layers.1.raw_latents[7,0]      0.03      0.58      0.03     -0.92      0.92    455.81      1.00\n",
      "                   lv_mapping_layers.1.raw_latents[7,1]      0.07      0.65      0.04     -0.91      1.10    311.65      1.00\n",
      "                   lv_mapping_layers.1.raw_latents[8,0]     -0.03      0.63     -0.02     -1.01      1.00    191.05      1.00\n",
      "                   lv_mapping_layers.1.raw_latents[8,1]      0.00      0.66     -0.00     -0.98      1.17    279.88      1.00\n",
      "                   lv_mapping_layers.1.raw_latents[9,0]     -0.22      1.23     -0.31     -2.08      1.79    177.02      1.00\n",
      "                   lv_mapping_layers.1.raw_latents[9,1]     -0.04      1.28     -0.08     -2.00      1.97    213.24      1.01\n",
      "                  lv_mapping_layers.1.raw_latents[10,0]     -0.19      1.16     -0.32     -1.94      1.71    208.77      1.00\n",
      "                  lv_mapping_layers.1.raw_latents[10,1]     -0.04      1.18     -0.09     -1.79      1.93    185.93      1.00\n",
      "                  lv_mapping_layers.1.raw_latents[11,0]      0.07      1.47      0.13     -2.19      2.46    194.09      1.00\n",
      "                  lv_mapping_layers.1.raw_latents[11,1]      0.00      1.45      0.01     -2.37      2.32    195.06      1.00\n",
      "                   lv_mapping_layers.1.raw_precision[0]     -1.61      0.76     -1.69     -2.78     -0.33    111.36      1.00\n",
      "                                mean_module.constant[0]     -0.38      0.50     -0.36     -1.20      0.41    792.39      1.00\n",
      "\n",
      "Number of divergences: 0\n"
     ]
    }
   ],
   "source": [
    "# check diagnostics\n",
    "# primary - rhat: closer to 1, the better, anything over 1.2 suggest some convergence issues\n",
    "# n_eff: effective number of independent samples, - the higher the better\n",
    "# Number of divergences: ideally none, but lower the better\n",
    "mcmc_runs.print_summary()"
   ]
  },
  {
   "cell_type": "code",
   "execution_count": 15,
   "metadata": {},
   "outputs": [
    {
     "data": {
      "text/plain": [
       "torch.Size([100, 123])"
      ]
     },
     "execution_count": 15,
     "metadata": {},
     "output_type": "execute_result"
    }
   ],
   "source": [
    "with torch.no_grad():\n",
    "    means,stds= model.predict(test_x.double(),return_std=True)\n",
    "\n",
    "# predictions are now a matrix of size number of mcmc_samples x number of test observsation\n",
    "means.shape"
   ]
  },
  {
   "cell_type": "code",
   "execution_count": 16,
   "metadata": {},
   "outputs": [],
   "source": [
    "# to obtain predictions, average/marginalize over all the mcmc samples,\n",
    "test_pred_mcmc = means.mean(axis=0)\n",
    "\n",
    "# to obtain an estimate for the prediction standard deviations, marginalize over the mcmc samples\n",
    "# this is NOT the same as an average\n",
    "test_std_mcmc = torch.sqrt( torch.mean(stds**2,axis=0) + torch.var(means,axis=0))"
   ]
  },
  {
   "cell_type": "code",
   "execution_count": 17,
   "metadata": {},
   "outputs": [
    {
     "data": {
      "text/plain": [
       "{'rrmse': 0.5377073200875621,\n",
       " 'mis': 73.56603392559643,\n",
       " 'cov': 0.9268292784690857}"
      ]
     },
     "execution_count": 17,
     "metadata": {},
     "output_type": "execute_result"
    }
   ],
   "source": [
    "# the posterior distribution is not Gaussian anymore but a mixture of Gaussians\n",
    "# however, it is easy to estimate quantiles via simulation\n",
    "lq,uq = gaussian_mean_confidence_interval(means,stds)\n",
    "{\n",
    "    'rrmse':rrmse(test_y,means.mean(axis=0)).item(),\n",
    "    'mis':mean_interval_score(test_y,lq,uq,0.05).item(),\n",
    "    'cov':coverage(test_y,lq,uq).item()\n",
    "}"
   ]
  },
  {
   "cell_type": "markdown",
   "metadata": {},
   "source": [
    "A small drawback with MCMC inference is that interpreting the LV space is not as straightforward anymore. In particular, the LV space corresponding to each sample can result in different interpretations. We show 6 such samples for the M-site. "
   ]
  },
  {
   "cell_type": "code",
   "execution_count": 18,
   "metadata": {},
   "outputs": [
    {
     "data": {
      "image/png": "[encoded data removed]",
      "text/plain": [
       "<Figure size 1800x1200 with 6 Axes>"
      ]
     },
     "metadata": {},
     "output_type": "display_data"
    }
   ],
   "source": [
    "# plot for the different lv spaces for the M-site \n",
    "# each corresponding to a different MCMC sample\n",
    "col_idx = 0\n",
    "cat = config.get_variable_by_idx(config.qual_index[col_idx])\n",
    "with torch.no_grad():\n",
    "    m_site_lvs = model.lv_mapping_layers[col_idx].latents.detach()\n",
    "\n",
    "# plot latent values\n",
    "fig,axs = plt.subplots(2,3,figsize=(12,8),sharex=True,sharey=True)\n",
    "\n",
    "for i in range(2):\n",
    "    for j in range(3):\n",
    "        idx = 3*i+j\n",
    "        latents = m_site_lvs[idx,...]\n",
    "        _ = axs[i,j].plot(latents[:,0],latents[:,1],'k.')\n",
    "\n",
    "        \n",
    "        # annotate the labels\n",
    "        for k,level in enumerate(cat.levels):\n",
    "            _ = axs[i,j].annotate(\n",
    "                str(level),latents[k,:],\n",
    "                textcoords = 'offset points',\n",
    "                xytext = (-1,3),\n",
    "                size='8'\n",
    "            )\n",
    "\n",
    "\n",
    "        _ = axs[i,j].set_xlabel(r'$z_1$')\n",
    "        _ = axs[i,j].set_ylabel(r'$z_2$')\n",
    "        _ = axs[i,j].set_title('LV sample %d'%(idx+1))\n",
    "        _ = axs[i,j].grid(alpha=0.5)\n",
    "        #_ = axs[i,].set_aspect('equal', 'datalim')\n",
    "\n",
    "    fig.tight_layout()"
   ]
  },
  {
   "cell_type": "markdown",
   "metadata": {},
   "source": [
    "A solution is to construct a representative LV space that reconciles differences across all MCMC samples. "
   ]
  },
  {
   "cell_type": "code",
   "execution_count": 19,
   "metadata": {
    "scrolled": true
   },
   "outputs": [],
   "source": [
    "from lvgp_bayes.utils.bayesianlatents import LatentEmbeddingsObj\n",
    "from lvgp_bayes.kernels import RBFKernel"
   ]
  },
  {
   "cell_type": "code",
   "execution_count": 20,
   "metadata": {},
   "outputs": [],
   "source": [
    "base_kernel = RBFKernel()\n",
    "base_kernel.raw_lengthscale.requires_grad_(False)\n",
    "base_kernel.initialize(**{'lengthscale':1.})\n",
    "\n",
    "m_site_le_obj = LatentEmbeddingsObj(\n",
    "    latents=m_site_lvs,\n",
    "    base_kernel = base_kernel,\n",
    "    num_starts=20\n",
    ")\n",
    "\n",
    "m_site_rep = m_site_le_obj.run()"
   ]
  },
  {
   "cell_type": "code",
   "execution_count": 21,
   "metadata": {},
   "outputs": [
    {
     "data": {
      "image/png": "[encoded data removed]",
      "text/plain": [
       "<Figure size 600x600 with 1 Axes>"
      ]
     },
     "metadata": {},
     "output_type": "display_data"
    }
   ],
   "source": [
    "fig,ax = plt.subplots(1,1,figsize=(4,4))\n",
    "\n",
    "_ = ax.plot(m_site_rep[:,0],m_site_rep[:,1],'k.')\n",
    "for j,level in enumerate(cat.levels):\n",
    "    _ = ax.annotate(\n",
    "        str(level),m_site_rep[j,:],\n",
    "        textcoords = 'offset points',\n",
    "        xytext = (-1,3),\n",
    "        size='8'\n",
    "    )\n",
    "\n",
    "\n",
    "_ = ax.set_xlabel(r'$z_1$')\n",
    "_ = ax.set_ylabel(r'$z_2$')\n",
    "_ = ax.set_title(cat.name + ' - Representative LV space')\n",
    "_ = ax.grid(alpha=0.5)\n",
    "_ = ax.set_aspect('equal', 'datalim')\n"
   ]
  },
  {
   "cell_type": "markdown",
   "metadata": {
    "scrolled": true
   },
   "source": [
    "There are some differences with the LV space obtained through MAP. Some levels are closer here (e.g: Ta-Nb, V-Nb, Mo-Cr, Sc-Cr), while other are farther apart (e.g.: Mo-Zr, Cr-V, etc.)."
   ]
  },
  {
   "cell_type": "code",
   "execution_count": null,
   "metadata": {},
   "outputs": [],
   "source": []
  }
 ],
 "metadata": {
  "kernelspec": {
   "display_name": "lvgp-bayes",
   "language": "python",
   "name": "lvgp-bayes"
  },
  "language_info": {
   "codemirror_mode": {
    "name": "ipython",
    "version": 3
   },
   "file_extension": ".py",
   "mimetype": "text/x-python",
   "name": "python",
   "nbconvert_exporter": "python",
   "pygments_lexer": "ipython3",
   "version": "3.8.13"
  }
 },
 "nbformat": 4,
 "nbformat_minor": 5
}
